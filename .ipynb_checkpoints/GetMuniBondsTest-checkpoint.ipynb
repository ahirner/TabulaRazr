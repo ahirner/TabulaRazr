{
 "cells": [
  {
   "cell_type": "code",
   "execution_count": 35,
   "metadata": {
    "collapsed": false
   },
   "outputs": [
    {
     "name": "stdout",
     "output_type": "stream",
     "text": [
      "skipping pdf/ER862677-ER674128-ER1075876.pdf, already exists.\n",
      "skipping pdf/EP849915-EP657701-EP1059361.pdf, already exists.\n",
      "skipping pdf/ER866175-ER676833-ER1078611.pdf, already exists.\n"
     ]
    }
   ],
   "source": [
    "from __future__ import print_function\n",
    "import re\n",
    "import os\n",
    "import codecs\n",
    "import string\n",
    "\n",
    "#Convert all pdfs\n",
    "files = os.listdir('pdf')\n",
    "for i,f in enumerate(files):\n",
    "\n",
    "    pdf_path = os.path.join('pdf', f)\n",
    "    txt_path = os.path.join('txt', f+'.txt')\n",
    "    \n",
    "    if not os.path.isfile(txt_path):\n",
    "        #Layout preservation crucial to maintain clues about tabular data\n",
    "        cmd = \"pdftotext -layout %s %s\" % (pdf_path, txt_path)\n",
    "        print ('%d/%d %s' % (i, len(files), cmd))\n",
    "        os.system(cmd)\n",
    "    else:\n",
    "        print ('skipping %s, already exists.' % (pdf_path, ))"
   ]
  },
  {
   "cell_type": "code",
   "execution_count": 147,
   "metadata": {
    "collapsed": false,
    "scrolled": false
   },
   "outputs": [
    {
     "name": "stdout",
     "output_type": "stream",
     "text": [
      "--------ER862677-ER674128-ER1075876.pdf.txt--------\n",
      "HEADER 1                                                     $95,885,000\n",
      "HEADER 2                                                     CALIFORNIA MUNICIPAL FINANCE AUTHORITY\n",
      "HEADER 3                                                     REVENUE BONDS, SERIES 2015-A\n",
      "--------EP849915-EP657701-EP1059361.pdf.txt--------\n",
      "HEADER 1                                                     $6,645,000\n",
      "HEADER 2                                                     CITY OF PALM SPRINGS\n",
      "HEADER 3                                                     LIMITED OBLIGATION REFUNDING IMPROVEMENT BONDS\n",
      "--------ER866175-ER676833-ER1078611.pdf.txt--------\n",
      "HEADER 1                                                     $19,560,000\n",
      "HEADER 2                                                     RNR SCHOOL FINANCING AUTHORITY\n",
      "HEADER 3                                                     COMMUNITY FACILITIES DISTRICT NO. 92-1\n",
      "PRINCIPAL AMOUNT OF 2015 REFUNDING BONDS                     $19,560,000.00\n",
      "PLUS: NET ORIGINAL ISSUE PREMIUM                             2,550,554.30\n",
      "PLUS: TRANSFERRED MONEYS FROM FUNDS FOR 2006 BONDS           367,663.99\n",
      "TOTAL SOURCES                                                $22,302,178.29\n",
      "DEPOSIT INTO ESCROW FUND (1)                                 $21,893,691.38\n",
      "DEPOSIT INTO 2015A COSTS OF ISSUANCE ACCOUNT (2)             408,486.91\n",
      "TOTAL USES                                                   $22,302,178.29\n"
     ]
    }
   ],
   "source": [
    "#Existing Version\n",
    "for file in os.listdir('txt'):\n",
    "    \n",
    "    print (\"--------\" + file + \"--------\")\n",
    "    \n",
    "    printline = 0\n",
    "    linesleft = 0\n",
    "    blanklines = 0\n",
    "    \n",
    "    topfound = 0\n",
    "    headerline = 0 \n",
    "    \n",
    "    with codecs.open('txt/'+file, \"r\", \"utf-8\") as f:\n",
    "        for i, line in enumerate(f):\n",
    "\n",
    "            strippedline = line.upper().strip()\n",
    "\n",
    "            if topfound == 0 and string.find(line,\"       $\") > 0:\n",
    "                headerline = 1\n",
    "                topfound = 1\n",
    "\n",
    "            if 1 <= headerline <= 3:\n",
    "                caption = \"HEADER \" + str(headerline)\n",
    "                value = strippedline\n",
    "                #df = df.append({'file':file, 'caption':caption, 'value':value},ignore_index=True)\n",
    "                print (u\"{:60s} {:10s}\".format(caption, value))\n",
    "                headerline = headerline + 1\n",
    "                continue\n",
    "\n",
    "            if strippedline == \"SOURCES AND USES OF FUNDS\" \\\n",
    "            or strippedline == \"SOURCES AND USES OF FUNDS*\" \\\n",
    "            or strippedline == \"ESTIMATED SOURCES AND USES OF FUNDS\" \\\n",
    "            or strippedline == \"ESTIMATED SOURCES AND USES OF FUNDS*\" \\\n",
    "            or strippedline == \"SOURCES AND USES OF FUNDS(1)\" \\\n",
    "            or strippedline == \"ESTIMATED SOURCES AND USES OF FUNDS(1)\" \\\n",
    "            or strippedline == \"PLAN OF FINANCE AND ESTIMATED SOURCES AND USES OF FUNDS\":\n",
    "                printline = 1\n",
    "                linesleft = 25\n",
    "\n",
    "            if printline == 1:\n",
    "                dollar_amount_regex = re.compile(\"[\\$]{0,1}[\\s]{0,6}[0-9,]{0,15}(\\.[0-9]{1,2})$\")\n",
    "                dollar_amount_match = re.search(dollar_amount_regex,strippedline)\n",
    "                if dollar_amount_match:\n",
    "                    caption = strippedline[:dollar_amount_match.start(0)].strip()\n",
    "                    value = strippedline[dollar_amount_match.start(0):].strip()\n",
    "                    #df = df.append({'file':file, 'caption':caption, 'value':value},ignore_index=True)\n",
    "                    print (u\"{:60s} {:10s}\".format(caption, value))\n",
    "                if len(line.strip()) < 5 and linesleft < 10:\n",
    "                    blanklines = blanklines + 1\n",
    "                linesleft = linesleft - 1\n",
    "\n",
    "            if linesleft == 0:\n",
    "                printline = 0"
   ]
  },
  {
   "cell_type": "code",
   "execution_count": null,
   "metadata": {
    "collapsed": true
   },
   "outputs": [],
   "source": [
    "#Issues:\n",
    "## Doesn't pick up caption in EP1059361 --> add USES OF FUNDS but then no SOURCES OF PAYMENTS\n",
    "## Doesn't pick up line items in ER1075876 --> match sequences of .... to indicate tables as well, plus be more lenient with cents values\n"
   ]
  },
  {
   "cell_type": "code",
   "execution_count": 154,
   "metadata": {
    "collapsed": false
   },
   "outputs": [
    {
     "name": "stdout",
     "output_type": "stream",
     "text": [
      "--------ER862677-ER674128-ER1075876.pdf.txt--------\n",
      "HEADER 1                                                     $95,885,000\n",
      "HEADER 2                                                     CALIFORNIA MUNICIPAL FINANCE AUTHORITY\n",
      "HEADER 3                                                     REVENUE BONDS, SERIES 2015-A\n",
      "PRINCIPAL AMOUNT                                             $ 95,885,000\n",
      "BOND PREMIUM                                                 12,984,339\n",
      "OTHER AVAILABLE FUNDS(1)                                     6,600,643 \n",
      "TOTAL SOURCES                                                $115,469,982\n",
      "DEPOSIT TO ACQUISITION FUND                                  $ 41,000,000\n",
      "RETIREMENT OF WATER REVENUE ANTICIPATION NOTES(2)            14,000,000\n",
      "DEPOSIT TO ESCROW FUND FOR REFUNDED 2008 BONDS               52,742,691\n",
      "DISCHARGE OF STATE LOAN                                      7,096,550 \n",
      "COSTS OF ISSUANCE(3)                                         630,741   \n",
      "TOTAL USES                                                   $115,469,982\n",
      "--------EP849915-EP657701-EP1059361.pdf.txt--------\n",
      "HEADER 1                                                     $6,645,000\n",
      "HEADER 2                                                     CITY OF PALM SPRINGS\n",
      "HEADER 3                                                     LIMITED OBLIGATION REFUNDING IMPROVEMENT BONDS\n",
      "TRANSFER TO ESCROW BANK                                      $6,086,693.08\n",
      "RESERVE FUND (1)                                             274,331.25\n",
      "COSTS OF ISSUANCE FUND (2)                                   152,404.72\n",
      "TOTAL USES                                                   $6,513,429.05\n",
      "--------ER866175-ER676833-ER1078611.pdf.txt--------\n",
      "HEADER 1                                                     $19,560,000\n",
      "HEADER 2                                                     RNR SCHOOL FINANCING AUTHORITY\n",
      "HEADER 3                                                     COMMUNITY FACILITIES DISTRICT NO. 92-1\n",
      "PRINCIPAL AMOUNT OF 2015 REFUNDING BONDS                     $19,560,000.00\n",
      "PLUS: NET ORIGINAL ISSUE PREMIUM                             2,550,554.30\n",
      "PLUS: TRANSFERRED MONEYS FROM FUNDS FOR 2006 BONDS           367,663.99\n",
      "TOTAL SOURCES                                                $22,302,178.29\n",
      "DEPOSIT INTO ESCROW FUND (1)                                 $21,893,691.38\n",
      "DEPOSIT INTO 2015A COSTS OF ISSUANCE ACCOUNT (2)             408,486.91\n",
      "TOTAL USES                                                   $22,302,178.29\n"
     ]
    }
   ],
   "source": [
    "#New Version\n",
    "for file in os.listdir('txt'):\n",
    "    \n",
    "    print (\"--------\" + file + \"--------\")\n",
    "    \n",
    "    printline = 0\n",
    "    linesleft = 0\n",
    "    blanklines = 0\n",
    "    \n",
    "    topfound = 0\n",
    "    headerline = 0 \n",
    "    \n",
    "    with codecs.open('txt/'+file, \"r\", \"utf-8\") as f:\n",
    "        for i, line in enumerate(f):\n",
    "\n",
    "            \n",
    "            strippedline = line.upper().strip()\n",
    "\n",
    "            if topfound == 0 and string.find(line,\"       $\") > 0:\n",
    "                headerline = 1\n",
    "                topfound = 1\n",
    "\n",
    "            if 1 <= headerline <= 3:\n",
    "                caption = \"HEADER \" + str(headerline)\n",
    "                value = strippedline\n",
    "                #df = df.append({'file':file, 'caption':caption, 'value':value},ignore_index=True)\n",
    "                print (u\"{:60s} {:10s}\".format(caption, value))\n",
    "                headerline = headerline + 1\n",
    "                continue\n",
    "\n",
    "            if strippedline == \"SOURCES AND USES OF FUNDS\" \\\n",
    "            or strippedline == \"SOURCES AND USES OF FUNDS*\" \\\n",
    "            or strippedline == \"ESTIMATED SOURCES AND USES OF FUNDS\" \\\n",
    "            or strippedline == \"ESTIMATED SOURCES AND USES OF FUNDS*\" \\\n",
    "            or strippedline == \"SOURCES AND USES OF FUNDS(1)\" \\\n",
    "            or strippedline == \"ESTIMATED SOURCES AND USES OF FUNDS(1)\" \\\n",
    "            or strippedline == \"PLAN OF FINANCE AND ESTIMATED SOURCES AND USES OF FUNDS\" \\\n",
    "            or strippedline == \"ESTIMATED USES OF FUNDS\": #New\n",
    "                printline = 1\n",
    "                linesleft = 25\n",
    "                #print (\"#### line:\", i, \"to\", i+linesleft)\n",
    "\n",
    "            if printline == 1:\n",
    "                #Include a minimum of preceding dots or whitespace\n",
    "                #Group 1 = preceding whitespace\n",
    "                #Group 2 = Dollar value\n",
    "                #Group 3 = $Cents value if existing\n",
    "                dollar_amount_regex = ur\"([\\.]{4,}|[\\s]{4,})[\\s]*\" + \\\n",
    "                                      ur\"([\\$]{0,1}[\\s]{0,6}[0-9,]{2,15})(\\.[0-9]{1,2})?$\"\n",
    "                dollar_amount_regex = re.compile(dollar_amount_regex)\n",
    "                dollar_amount_match = re.search(dollar_amount_regex,strippedline)\n",
    "                \n",
    "                #Check whether we found something tabular and a dollar value\n",
    "                if dollar_amount_match and dollar_amount_match.group(2):\n",
    "                    caption = strippedline[:dollar_amount_match.start(1)].strip()\n",
    "                    value = strippedline[dollar_amount_match.start(2):].strip()\n",
    "                    #df = df.append({'file':file, 'caption':caption, 'value':value},ignore_index=True)\n",
    "                    print (u\"{:60s} {:10s}\".format(caption, value))\n",
    "                if len(line.strip()) < 5 and linesleft < 10:\n",
    "                    blanklines = blanklines + 1\n",
    "                linesleft = linesleft - 1\n",
    "\n",
    "            if linesleft == 0:\n",
    "                printline = 0"
   ]
  },
  {
   "cell_type": "code",
   "execution_count": 150,
   "metadata": {
    "collapsed": false
   },
   "outputs": [
    {
     "name": "stdout",
     "output_type": "stream",
     "text": [
      "--------ER862677-ER674128-ER1075876.pdf.txt--------\n",
      "27 - issuance of the Bonds. See “PLAN OF FINANCE” and “ESTIMATED SOURCES AND USES OF FUNDS.”\n",
      "\n",
      "229 - ESTIMATED SOURCES AND USES OF FUNDS ................................................................................... 7\n",
      "\n",
      "370 - of the Bonds. See “PLAN OF FINANCE” and “ESTIMATED SOURCES AND USES OF FUNDS.”\n",
      "\n",
      "653 -                                  ESTIMATED SOURCES AND USES OF FUNDS\n",
      "\n",
      "--------EP849915-EP657701-EP1059361.pdf.txt--------\n",
      "--------ER866175-ER676833-ER1078611.pdf.txt--------\n",
      "223 - ESTIMATED SOURCES AND USES OF FUNDS .................................................................................. 13 \n",
      "\n",
      "429 - Bonds. See “ESTIMATED SOURCES AND USES OF FUNDS.”\n",
      "\n",
      "715 - “ESTIMATED SOURCES AND USES OF FUNDS.”\n",
      "\n",
      "983 -                              ESTIMATED SOURCES AND USES OF FUNDS\n",
      "\n"
     ]
    }
   ],
   "source": [
    "#Some exploration\n",
    "max_distance_below = 25\n",
    "max_distance_above = 5\n",
    "context_identifier = u\"SOURCES AND USES OF FUNDS|SOURCES AND USES OF FUNDS*|ESTIMATED SOURCES AND USES OF FUNDS|\" + \\\n",
    "                      \"ESTIMATED SOURCES AND USES OF FUNDS*|SOURCES AND USES OF FUNDS(1)|\" + \\\n",
    "                      \"ESTIMATED SOURCES AND USES OF FUNDS(1)|PLAN OF FINANCE AND ESTIMATED SOURCES AND USES OF FUNDS\"\n",
    "context_identifier = context_identifier.split(u\"|\")\n",
    "\n",
    "for file in os.listdir('txt'):\n",
    "    \n",
    "    print (\"--------\" + file + \"--------\")\n",
    "    with codecs.open('txt/'+file, \"r\", \"utf-8\") as f:\n",
    "        for i, line in enumerate(f):\n",
    "            \n",
    "            #Print Candidates\n",
    "            id_found = reduce(lambda x,y: x or y, ( (id in line) for id in context_identifier ))\n",
    "            if id_found:\n",
    "                print(i, '-', line)\n",
    "            "
   ]
  },
  {
   "cell_type": "code",
   "execution_count": null,
   "metadata": {
    "collapsed": true
   },
   "outputs": [],
   "source": []
  }
 ],
 "metadata": {
  "kernelspec": {
   "display_name": "Python 2",
   "language": "python",
   "name": "python2"
  },
  "language_info": {
   "codemirror_mode": {
    "name": "ipython",
    "version": 2
   },
   "file_extension": ".py",
   "mimetype": "text/x-python",
   "name": "python",
   "nbconvert_exporter": "python",
   "pygments_lexer": "ipython2",
   "version": "2.7.6"
  }
 },
 "nbformat": 4,
 "nbformat_minor": 0
}
