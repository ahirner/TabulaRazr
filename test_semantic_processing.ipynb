{
 "cells": [
  {
   "cell_type": "code",
   "execution_count": 1,
   "metadata": {
    "collapsed": true
   },
   "outputs": [],
   "source": [
    "from __future__ import print_function\n",
    "import sys\n",
    "import os\n",
    "import re\n",
    "\n",
    "import codecs\n",
    "import string\n",
    "\n",
    "from collections import Counter, OrderedDict"
   ]
  },
  {
   "cell_type": "code",
   "execution_count": 2,
   "metadata": {
    "collapsed": false
   },
   "outputs": [
    {
     "name": "stdout",
     "output_type": "stream",
     "text": [
      "c0f2fcf0-d2bd-11e5-8378-4dad29be0fab\n"
     ]
    }
   ],
   "source": [
    "import json\n",
    "from flask import Flask, request, redirect, url_for, send_from_directory\n",
    "from werkzeug import secure_filename\n",
    "from flask import jsonify, render_template, make_response\n",
    "\n",
    "import numpy as np\n",
    "import pandas as pd\n",
    "\n",
    "\n",
    "os.environ['RETINA_SDK_KEY'] = \"c0f2fcf0-d2bd-11e5-8378-4dad29be0fab\"\n",
    "print(os.environ['RETINA_SDK_KEY'])\n",
    "from semantic_processing import get_footprint_of_table, text_from_table, connect_to_retina"
   ]
  },
  {
   "cell_type": "code",
   "execution_count": 86,
   "metadata": {
    "collapsed": true
   },
   "outputs": [],
   "source": [
    "import six\n",
    "from itertools import chain, islice\n",
    "from backend import get_all_tables\n",
    "import operator"
   ]
  },
  {
   "cell_type": "code",
   "execution_count": 4,
   "metadata": {
    "collapsed": false
   },
   "outputs": [],
   "source": [
    "from backend import parse_tables, table_to_df"
   ]
  },
  {
   "cell_type": "code",
   "execution_count": 5,
   "metadata": {
    "collapsed": false
   },
   "outputs": [],
   "source": [
    "%load_ext autoreload\n",
    "%autoreload 2"
   ]
  },
  {
   "cell_type": "markdown",
   "metadata": {},
   "source": [
    "Load data"
   ]
  },
  {
   "cell_type": "code",
   "execution_count": 6,
   "metadata": {
    "collapsed": false
   },
   "outputs": [
    {
     "ename": "SyntaxError",
     "evalue": "invalid syntax (<ipython-input-6-3a70a0281800>, line 7)",
     "output_type": "error",
     "traceback": [
      "\u001b[0;36m  File \u001b[0;32m\"<ipython-input-6-3a70a0281800>\"\u001b[0;36m, line \u001b[0;32m7\u001b[0m\n\u001b[0;31m    print tabledict[0]['header'])\u001b[0m\n\u001b[0m                  ^\u001b[0m\n\u001b[0;31mSyntaxError\u001b[0m\u001b[0;31m:\u001b[0m invalid syntax\n"
     ]
    }
   ],
   "source": [
    "from itertools import chain\n",
    "TOTAL_BITS_FINGERPRINT = 128*128\n",
    "\n",
    "txt_path = \"testcases/test_input2.txt\"\n",
    "tabledict = parse_tables(txt_path)\n",
    "\n",
    "print tabledict[0]['header'])\n",
    "\n",
    "fp1 = [f for f in get_footprint_of_tables(tabledict)][0][1]\n",
    "\n",
    "txt_path = \"testcases/test_input4.txt\"\n",
    "tabledict = parse_tables(txt_path)\n",
    "print (tabledict.values()[0]['header'])\n",
    "\n",
    "\n",
    "fp2 = [f for f in get_footprint_of_tables(tabledict)][0][1]\n",
    "\n",
    "tables = [parse_tables(\"testcases/test_input%i.txt\" % i) for i in range(1,6)]\n",
    "\n",
    "fps = [f for f in chain(*[get_footprint_of_tables(t) for t in tables])]\n"
   ]
  },
  {
   "cell_type": "code",
   "execution_count": 70,
   "metadata": {
    "collapsed": false
   },
   "outputs": [],
   "source": [
    "\n",
    "#Is inversely correlated to distance\n",
    "def fingerprint_union_length(fp1, fp2):\n",
    "    return len(set(chain(fp1,fp2)))\n",
    "\n",
    "#Not sure about it\n",
    "def fingerprint_hamming_distance(fp1, fp2):\n",
    "    edits = 0\n",
    "    for i in range(TOTAL_BITS_FINGERPRINT):\n",
    "        if i in fp1 and i not in fp2:\n",
    "            edits += 1\n",
    "        if i in fp2 and i not in fp1:\n",
    "            edits += 1\n",
    "    return edits\n",
    "\n",
    "def fingerprint_jaccard_distance(fp1, fp2):\n",
    "    union = len(set(chain(fp1,fp2)))\n",
    "    intersect = len(set(fp1) & set(fp2))\n",
    "    return float(intersect) / union\n",
    "\n",
    "#print (fingerprint_hamming_distance(fp1, fp2))\n",
    "#print (fingerprint_hamming_distance(fp1, fp2))\n",
    "#print (fingerprint_jaccard_distance(fp1, fp2))\n",
    "\n"
   ]
  },
  {
   "cell_type": "code",
   "execution_count": 97,
   "metadata": {
    "collapsed": false,
    "scrolled": true
   },
   "outputs": [
    {
     "name": "stdout",
     "output_type": "stream",
     "text": [
      "0 ) FISCAL YEAR 2014-15 ASSIGNED/MAXIMUM AND ACTUAL SPECIAL TAX RATES | IMPROVEMENT AREA NO. 4 EA716610-EA562590-EA958701 1014\n",
      "1 ) Description | CFD No. 2 (Improvement Area No. 4) | Fiscal Year 2003-04 Assigned Special Taxes for Developed Property | TABLE 1 EA716610-EA562590-EA958701 2449\n",
      "2 ) SPECIAL TAX DELINQUENCY HISTORY | IMPROVEMENT AREA NO. 4 | COMMUNITY FACILITIES DISTRICT NO. 2 (SANTALUZ) EA716610-EA562590-EA958701 1341\n",
      "3 ) (Annualized) | 2012 | December 31, (1) | Six Months | 2012, and the fiscal year ended June 30, 2012, 2011 and 2010. | upon the Medical Center’s consolidated results of operations for the six months ended December 31, EP753324-ER508056-ER910760 1016\n",
      "4 ) excluding any Assessor’s Parcels which have been prepaid. | Administrator), using the Backup Special Tax rate for the current Fiscal Year, | based on the Update Report (and other information available to the CFD | estimated total Backup Special Tax at buildout of the CFD No. 2 (IA No. 4) | (b) Divide the Backup Special Tax computed pursuant to paragraph 2 by the | been prepaid, and EA716610-EA562590-EA958701 2712\n",
      "5 ) FOR FISCAL YEAR 2014-15 | SAMPLE PROPERTY TAX BILLS EA716610-EA562590-EA958701 1269\n",
      "6 ) month period ended December 31, 2012. | Center for the fiscal years ended June 30, 2010, 2011, 2012, and for the annualized six- | The following table sets forth the maximum annual debt service coverage for the Medical | Historical and Pro-Forma Maximum Annual Debt Service Coverage EP753324-ER508056-ER910760 4258\n",
      "7 ) (UAAL) as | Analysis of Funding Progress | Required Supplemental Information EP753324-ER508056-ER910760 6342\n",
      "8 ) ended June 30, 2012 and 2011: | summary of financial position and results of operations of GHCI as of and for the years | employees for the years ended June 30, 2012 and 2011, respectively. The following is a | respectively. The Medical Center paid GHCI $1,079,000 and $1,033,000 for leased | was distributed to the Medical Center during the years ended June 30, 2012 and 2011, | equally in the income or losses of the joint venture. A total of $600,000 and $950,000 | 5,175,260, respectively. The arrangement provides that the two entities will share | The Medical Center's net investment at June 30, 2012 and 2011 was $6,776,600 and EP753324-ER508056-ER910760 6078\n",
      "9 ) (in thousands) | Fiscal Years 2010 through 2014 | TRANSIENT OCCUPANCY TAX(1) | CITY OF SAN DIEGO | TABLE B-6 EA716610-EA562590-EA958701 3210\n"
     ]
    }
   ],
   "source": [
    "def get_all_project_tables(project=None):\n",
    "    \n",
    "    path = './static/ug'\n",
    "    if project:\n",
    "        path = os.path.join('./static/ug', project)\n",
    "            \n",
    "    for s in get_all_tables(path):\n",
    "        with codecs.open(os.path.join(path, s+'.table.json'), \"r\",\"utf-8\") as file:\n",
    "            yield s, json.load(file)\n",
    "\n",
    "def get_nearest_neighbors(project, filename, table_id, exclude_self = False, max = 10):\n",
    "    \n",
    "    path = './static/ug'\n",
    "    if project:\n",
    "        path = os.path.join('./static/ug', project)\n",
    "    \n",
    "    with codecs.open(os.path.join(path, filename, table_id+'.fingerprint.json'),\"r\",\"utf-8\") as file:\n",
    "        fingerprint = json.load(file)\n",
    "        #print(fingerprint)\n",
    "    \n",
    "    similarities = []\n",
    "    for other_path in get_all_tables(path):\n",
    "        other_filename, other_table_id = other_path.split(r\"/\")\n",
    "        if not (exclude_self and other_table_id == table_id and filename == other_filename):\n",
    "            other_path = os.path.join(path, other_filename, other_table_id+'.fingerprint.json')\n",
    "            with codecs.open(other_path, \"r\",\"utf-8\") as file:\n",
    "                other_fp = json.load(file)\n",
    "                sim = fingerprint_jaccard_distance(fingerprint, other_fp)\n",
    "                similarities.append( (other_filename, other_table_id, sim))\n",
    "    \n",
    "    similarities.sort(key=operator.itemgetter(2), reverse=True)\n",
    "    for fn, t_id, sim in islice(similarities, 0, max):\n",
    "        with codecs.open(os.path.join(path, fn, t_id+'.table.json'), \"r\",\"utf-8\") as file:\n",
    "            table = json.load(file)\n",
    "            yield table, fn, t_id\n",
    "    #print(\"Didn't find fingerprint!\")\n",
    "    \n",
    "for i, t in enumerate(get_nearest_neighbors(None, 'EA716610-EA562590-EA958701',  '1014', False, 10)):\n",
    "    print(i,\")\", t[0]['header'], t[1], t[2])\n",
    "    \n",
    "#for t in get_all_project_tables(): print (t)    "
   ]
  },
  {
   "cell_type": "code",
   "execution_count": null,
   "metadata": {
    "collapsed": false
   },
   "outputs": [],
   "source": [
    "\n",
    "table_to_df(list(tabledict.items())[0][1])"
   ]
  },
  {
   "cell_type": "code",
   "execution_count": null,
   "metadata": {
    "collapsed": false
   },
   "outputs": [],
   "source": [
    "liteClient =  connect_to_retina()\n",
    "\n",
    "\"get json entry for one table\"\n",
    "vv = list(tabledict.values())[0]\n",
    "\n",
    "table_text = text_from_table(vv)\n",
    "liteClient.getFingerprint( table_text.encode('ascii', 'ignore')   )"
   ]
  },
  {
   "cell_type": "code",
   "execution_count": null,
   "metadata": {
    "collapsed": false
   },
   "outputs": [],
   "source": [
    "from collections import OrderedDict"
   ]
  },
  {
   "cell_type": "code",
   "execution_count": null,
   "metadata": {
    "collapsed": false
   },
   "outputs": [],
   "source": [
    "from semantic_processing import get_footprint_of_tables, text_from_table, connect_to_retina"
   ]
  },
  {
   "cell_type": "code",
   "execution_count": null,
   "metadata": {
    "collapsed": false,
    "scrolled": true
   },
   "outputs": [],
   "source": [
    "for kk, vv in six.iteritems(tabledict):\n",
    "    print(kk, text_from_table(vv), sep = \"\\t\")"
   ]
  },
  {
   "cell_type": "code",
   "execution_count": null,
   "metadata": {
    "collapsed": false
   },
   "outputs": [],
   "source": [
    "import os\n",
    "\n",
    "try:  \n",
    "    os.environ[\"RETINA_SDK_KEY\"]\n",
    "except KeyError: \n",
    "    print( \"Please set the environment variable RETINA_SDK_KEY\")"
   ]
  },
  {
   "cell_type": "code",
   "execution_count": null,
   "metadata": {
    "collapsed": false
   },
   "outputs": [],
   "source": [
    "for kk, vv in get_footprint_of_tables(tabledict):\n",
    "    #print(kk, vv, sep = \"\\t\")\n",
    "    pass\n",
    "vv"
   ]
  },
  {
   "cell_type": "code",
   "execution_count": null,
   "metadata": {
    "collapsed": false
   },
   "outputs": [],
   "source": [
    "vv"
   ]
  },
  {
   "cell_type": "code",
   "execution_count": null,
   "metadata": {
    "collapsed": false
   },
   "outputs": [],
   "source": [
    "fullClient = connect_to_retina( full = True)\n",
    "img = fullClient.getImages(json.dumps([{\"text\": text_from_table(vv)}] ) )"
   ]
  },
  {
   "cell_type": "code",
   "execution_count": null,
   "metadata": {
    "collapsed": false
   },
   "outputs": [],
   "source": [
    "imgdata = img[0].image_data\n",
    "type(imgdata)"
   ]
  },
  {
   "cell_type": "code",
   "execution_count": null,
   "metadata": {
    "collapsed": false
   },
   "outputs": [],
   "source": []
  },
  {
   "cell_type": "code",
   "execution_count": null,
   "metadata": {
    "collapsed": false
   },
   "outputs": [],
   "source": []
  },
  {
   "cell_type": "code",
   "execution_count": null,
   "metadata": {
    "collapsed": false
   },
   "outputs": [],
   "source": [
    "if str(type(s)) == \"<class 'bytes'>\":\n",
    "    # only possible in Python 3\n",
    "    s = s.decode('ascii')  # or  s = str(s)[2:-1]\n",
    "elif str(type(s)) == \"<type 'unicode'>\":\n",
    "    # only possible in Python 2\n",
    "    s = str(s)\n",
    "    \n",
    "six.binary_type(img[0].image_data)"
   ]
  },
  {
   "cell_type": "code",
   "execution_count": null,
   "metadata": {
    "collapsed": false
   },
   "outputs": [],
   "source": [
    "outimg = \"test.png\"\n",
    "with open(outimg, \"wb+\") as ff:\n",
    "    ff.write(bytes(imgdata,  'ascii'))"
   ]
  },
  {
   "cell_type": "code",
   "execution_count": null,
   "metadata": {
    "collapsed": false
   },
   "outputs": [],
   "source": [
    "%ls"
   ]
  },
  {
   "cell_type": "code",
   "execution_count": null,
   "metadata": {
    "collapsed": false
   },
   "outputs": [],
   "source": [
    "from IPython.display import Image\n",
    "Image(data = img[0].image_data)"
   ]
  }
 ],
 "metadata": {
  "kernelspec": {
   "display_name": "Python 2",
   "language": "python",
   "name": "python2"
  },
  "language_info": {
   "codemirror_mode": {
    "name": "ipython",
    "version": 2
   },
   "file_extension": ".py",
   "mimetype": "text/x-python",
   "name": "python",
   "nbconvert_exporter": "python",
   "pygments_lexer": "ipython2",
   "version": "2.7.10"
  }
 },
 "nbformat": 4,
 "nbformat_minor": 0
}
